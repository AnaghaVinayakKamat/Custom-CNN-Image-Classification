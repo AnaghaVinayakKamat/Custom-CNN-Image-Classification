{
 "cells": [
  {
   "cell_type": "code",
   "execution_count": 4,
   "id": "2628b880",
   "metadata": {},
   "outputs": [
    {
     "data": {
      "text/plain": [
       "array([[[-0.13104712, -1.14507135,  0.46902627, -0.81158415,\n",
       "         -3.22997018, -0.54365278, -2.74332643,  2.08457694,\n",
       "         -4.2136454 , -0.09902083, -0.22153498,  0.38429126,\n",
       "         -0.79984113,  1.79113821,  0.70555625,  2.0292576 ],\n",
       "        [ 0.        ,  0.        ,  0.        ,  0.        ,\n",
       "          0.        ,  0.        ,  0.        ,  0.        ,\n",
       "          0.        ,  0.        ,  0.        ,  0.        ,\n",
       "          0.        ,  0.        ,  0.        ,  0.        ],\n",
       "        [ 0.        ,  0.        ,  0.        ,  0.        ,\n",
       "          0.        ,  0.        ,  0.        ,  0.        ,\n",
       "          0.        ,  0.        ,  0.        ,  0.        ,\n",
       "          0.        ,  0.        ,  0.        ,  0.        ]],\n",
       "\n",
       "       [[ 0.        ,  0.        ,  0.        ,  0.        ,\n",
       "          0.        ,  0.        ,  0.        ,  0.        ,\n",
       "          0.        ,  0.        ,  0.        ,  0.        ,\n",
       "          0.        ,  0.        ,  0.        ,  0.        ],\n",
       "        [ 0.        ,  0.        ,  0.        ,  0.        ,\n",
       "          0.        ,  0.        ,  0.        ,  0.        ,\n",
       "          0.        ,  0.        ,  0.        ,  0.        ,\n",
       "          0.        ,  0.        ,  0.        ,  0.        ],\n",
       "        [ 0.        ,  0.        ,  0.        ,  0.        ,\n",
       "          0.        ,  0.        ,  0.        ,  0.        ,\n",
       "          0.        ,  0.        ,  0.        ,  0.        ,\n",
       "          0.        ,  0.        ,  0.        ,  0.        ]],\n",
       "\n",
       "       [[ 0.        ,  0.        ,  0.        ,  0.        ,\n",
       "          0.        ,  0.        ,  0.        ,  0.        ,\n",
       "          0.        ,  0.        ,  0.        ,  0.        ,\n",
       "          0.        ,  0.        ,  0.        ,  0.        ],\n",
       "        [ 0.        ,  0.        ,  0.        ,  0.        ,\n",
       "          0.        ,  0.        ,  0.        ,  0.        ,\n",
       "          0.        ,  0.        ,  0.        ,  0.        ,\n",
       "          0.        ,  0.        ,  0.        ,  0.        ],\n",
       "        [ 0.        ,  0.        ,  0.        ,  0.        ,\n",
       "          0.        ,  0.        ,  0.        ,  0.        ,\n",
       "          0.        ,  0.        ,  0.        ,  0.        ,\n",
       "          0.        ,  0.        ,  0.        ,  0.        ]]])"
      ]
     },
     "execution_count": 4,
     "metadata": {},
     "output_type": "execute_result"
    }
   ],
   "source": [
    "import numpy as np\n",
    "\n",
    "class ConvolutionalLayer:\n",
    "    def __init__(self, input_size, num_channels, filter_size):\n",
    "        self.input_size = input_size\n",
    "        self.num_channels = num_channels\n",
    "        self.filter_size = filter_size\n",
    "        self.weight_matrix = np.random.randn(num_channels, filter_size[0], filter_size[1])\n",
    "        self.output_size = (input_size[0] - filter_size[0] + 1, input_size[1] - filter_size[1] + 1)\n",
    "        self.output_feature_map = np.zeros((self.filter_size[0], self.filter_size[1], 16))\n",
    "\n",
    "    def forward(self, input_feature_map):\n",
    "        for i in range(self.output_size[0]):\n",
    "            for j in range(self.output_size[1]):\n",
    "                receptive_field = input_feature_map[i:i+self.filter_size[0], j:j+self.filter_size[1], :]\n",
    "                \n",
    "                #applies receptive field to the weight matrix the same as the input matrix\n",
    "                receptive_field_weights = self.weight_matrix[i:i+self.filter_size[0], j:j+self.filter_size[1], :]\n",
    "                # Reshape receptive_field_weights to (num_channels, filter_size*filter_size) for broadcasting\n",
    "                #receptive_field_weights = receptive_field_weights.reshape(self.num_channels, -1)\n",
    "                weighted_output = np.dot(receptive_field, receptive_field_weights)\n",
    "                # Reshape weighted_output back to (filter_size, filter_size, num_channels)\n",
    "                #weighted_output = weighted_output.reshape(self.filter_size[0], self.filter_size[1], 16)\n",
    "                self.output_feature_map[i, j, :] = weighted_output.flatten()[:16]        \n",
    "                return self.output_feature_map\n",
    "\n",
    "# Create a convolutional layer\n",
    "conv_layer = ConvolutionalLayer(input_size=(4, 4), num_channels=3, filter_size=(3, 3)) #3x3 filter size\n",
    " \n",
    "# Define an input feature map\n",
    "input_feature_map = np.random.randn(4, 4, 3)\n",
    "\n",
    "# Apply the convolutional layer to the input feature map\n",
    "output_feature_map = conv_layer.forward(input_feature_map)\n",
    "\n",
    "output_feature_map"
   ]
  }
 ],
 "metadata": {
  "kernelspec": {
   "display_name": "Python 3 (ipykernel)",
   "language": "python",
   "name": "python3"
  },
  "language_info": {
   "codemirror_mode": {
    "name": "ipython",
    "version": 3
   },
   "file_extension": ".py",
   "mimetype": "text/x-python",
   "name": "python",
   "nbconvert_exporter": "python",
   "pygments_lexer": "ipython3",
   "version": "3.10.5"
  }
 },
 "nbformat": 4,
 "nbformat_minor": 5
}
